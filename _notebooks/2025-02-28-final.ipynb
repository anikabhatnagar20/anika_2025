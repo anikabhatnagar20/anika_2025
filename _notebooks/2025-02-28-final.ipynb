{
 "cells": [
  {
   "cell_type": "markdown",
   "metadata": {},
   "source": [
    "---\n",
    "layout: post\n",
    "comments: true\n",
    "title: Final blog \n",
    "description: Final \n",
    "categories: [AP CSA]\n",
    "courses: {'csa': {'week': 5}}\n",
    "type: ccc\n",
    "menu: nav/CSA_Units/csa_unit3_p1.html\n",
    "author: Anika Bhatnagar\n",
    "---"
   ]
  },
  {
   "cell_type": "markdown",
   "metadata": {},
   "source": [
    "# Burn Down List \n",
    "\n",
    "## Streak feature\n",
    "<img width=\"1407\" alt=\"Image\" src=\"https://github.com/user-attachments/assets/75400178-9cbd-43f4-bf35-02079a4a805c\" />\n",
    "- This was the first feature that I worked on for this project. This was part of Gamify, specifically the adventure game. \n",
    "- Key learning: I learned about how CORS errors impact deployed sites differently then local. What set me back was when testing this feature locally it wouldn't work and I spent alot of time trying to fix the cors error. I later learned that that error won't affect this when its deployed and the best way to test it is through Postman. \n",
    "\n",
    "\n",
    "## Array List Team Teach \n",
    "- This helped me deepen my own understanding on arrays and arraylists. \n",
    "- What I thought was really helpful was researching the most common mistakes students make when tackling these types of problems. This made me more aware of what to look out for and how to not miss simple points on the frqs. \n",
    "\n",
    "## HTML Hank \n",
    "\n",
    "- HTML Hank was a character that I thought of after looking at the Nighthawk coders suggestions for characters for gamify. This character focused on HTML. \n",
    "https://github.com/CSA-Coders-2025/CSA_Combined_Frontend_Fork/commit/d8462e1d9468e29fcb8d3e37a06285a619dcde68\n",
    "\n",
    "## What I learned through Gamify \n",
    "- During gamify I learned many things mostly focusing on frontend. When we first started the project my group used the extension live server to test the website rather than make. This was interesting to use and I learned how to use this tool. Using live server was really convient to test the code since it was always very updated and effiencent. \n",
    "\n",
    "## Added a searchbar on Spring 2025 person database \n",
    "<img width=\"1362\" alt=\"Image\" src=\"https://github.com/user-attachments/assets/4d34fb55-83be-49d7-9f44-7bf941684489\" />\n",
    "\n",
    "- This is helpful for organization and convience for searching for a specific user. It also has arrows at the top and can put the users based on the certain categories. \n",
    "\n",
    "\n",
    "\n"
   ]
  }
 ],
 "metadata": {
  "language_info": {
   "name": "python"
  },
  "orig_nbformat": 4
 },
 "nbformat": 4,
 "nbformat_minor": 2
}
