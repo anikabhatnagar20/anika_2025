{
 "cells": [
  {
   "cell_type": "markdown",
   "metadata": {},
   "source": [
    "---\n",
    "toc: false \n",
    "layout: post\n",
    "title: Selection + Insertion Sort HW\n",
    "description: Homework on both the selection and insertion sort methods\n",
    "courses: { csa: {week: 26} }\n",
    "type: ccc\n",
    "permalink: /classwork/selection-insertion-sort\n",
    "---"
   ]
  },
  {
   "cell_type": "code",
   "execution_count": 1,
   "metadata": {
    "vscode": {
     "languageId": "java"
    }
   },
   "outputs": [],
   "source": [
    "import java.util.Arrays; // Import utility class for array manipulation\n",
    "\n",
    "// Class definition\n",
    "public class SortDemo {\n",
    "\n",
    "    // Main method - entry point of the program\n",
    "    public static void main(String[] args) {\n",
    "        // Initialize the array to be sorted\n",
    "        int[] stock = {29, 10, 14, 37, 13, 18, 25, 30, 4, 9, 12, 40, 50, 23, 28};\n",
    "\n",
    "        // Call selection sort method with the array\n",
    "        runSelectionSort(stock);\n",
    "    }\n",
    "\n",
    "    // Method to perform selection sort on an integer array\n",
    "    public static void runSelectionSort(int[] data) {\n",
    "        // Loop through the array (excluding the last element)\n",
    "        for (int i = 0; i < data.length - 1; i++) {\n",
    "            // Assume the current index has the smallest value\n",
    "            int smallest = i;\n",
    "\n",
    "            // Find the index of the smallest value in the remaining array\n",
    "            for (int j = i + 1; j < data.length; j++) {\n",
    "                if (data[j] < data[smallest]) {\n",
    "                    smallest = j;\n",
    "                }\n",
    "            }\n",
    "\n",
    "            // Swap the smallest element found with the current element\n",
    "            int swap = data[smallest];\n",
    "            data[smallest] = data[i];\n",
    "            data[i] = swap;\n",
    "        }\n",
    "\n",
    "        // Print the sorted array\n",
    "        System.out.println(\"Sorted by Selection: \" + Arrays.toString(data));\n",
    "    }\n",
    "}\n",
    "\n"
   ]
  }
 ],
 "metadata": {
  "kernelspec": {
   "display_name": "Java",
   "language": "java",
   "name": "java"
  },
  "language_info": {
   "codemirror_mode": "java",
   "file_extension": ".jshell",
   "mimetype": "text/x-java-source",
   "name": "Java",
   "pygments_lexer": "java",
   "version": "17.0.3+7"
  },
  "orig_nbformat": 4
 },
 "nbformat": 4,
 "nbformat_minor": 2
}
