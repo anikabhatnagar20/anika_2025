{
 "cells": [
  {
   "cell_type": "markdown",
   "metadata": {},
   "source": [
    "---\n",
    "layout: post\n",
    "toc: true\n",
    "title: Sprint 2\n",
    "description: This is sprint 2 issue. \n",
    "courses: { csa: {week: 1} }\n",
    "type: ccc\n",
    "categories: [AP CSA]\n",
    "author: Aniket Chakradeo, Soham Kamat\n",
    "---"
   ]
  },
  {
   "cell_type": "markdown",
   "metadata": {},
   "source": [
    "Assignment | Points | Grade | Evidence\n",
    "-- | -- | -- | --\n",
    "Pull Request (Integration) | 2 | 1.6 |  ![image](https://github.com/user-attachments/assets/701065c9-d61f-4fb8-999a-dac38c91e603) We submitted our pull request a day late. \n",
    "Relevancy Checklist (Peer) | 2 | | https://nighthawkcoders.github.io/portfolio_2025/csa/unit3-p1/unit3-3\n",
    "Lesson (Group) | 1 | .8 |<img width=\"1017\" alt=\"image\" src=\"https://github.com/user-attachments/assets/6cff8803-081a-4faf-bbf6-f0ab96741973\">\n",
    "Homework, Popcorn Hacks | 1 x 8 | .85, .85, 85, 93 | https://docs.google.com/spreadsheets/d/1sGQtZm9GI2Rze5F7Eh_P1CMNO8Fyag4bCtOT0ddARmc/edit?gid=0#gid=0\n",
    "Individual Contribution | 1 | .9 |  <img width=\"906\" alt=\"image\" src=\"https://github.com/user-attachments/assets/384adf3f-8e74-4cbf-9b60-4311c0bdd9f5\"> In my first group I would try to contribute, though we would get distracted. In the new groups I can see my self trying to give more ideas, and discussing more code and contributing overall more.  \n",
    "Personal Notebooks / Blogs | 1 | 0.9 | https://anikabhatnagar20.github.io/anika_2025/ have been keeping this up to date and organized \n",
    "Total | 15 |  | \n",
    "\n",
    "Assignment | Points | Grade | Evidence\n",
    "-- | -- | -- | --\n",
    "Work Habits (Analytics) | 1 | .8 | <img width=\"1422\" alt=\"image\" src=\"https://github.com/user-attachments/assets/44b7a3c7-96e6-4c3c-9bcf-737748714dab\"> <img width=\"1423\" alt=\"image\" src=\"https://github.com/user-attachments/assets/48b14fb7-7cc9-459e-920b-7bdf26c3d126\">  Based on my github analytics there was an issue and they weren't synced so that wasn't updating the amount of commits, but on github my commits were there. \n",
    "Team Planning (Issue) | 1 | .9 |  https://github.com/alishahussain/alishanew2025/issues/3\n",
    "Presentation Memories | 1 | .75 |  Our team teach had a issue of not communicating and cross referencing withe each other which lead to a couple of miscommunications with the information which lead to a overall lower performance. For my part specifically I could have added more code example and perfect the one i did provide. \n",
    "Grading and Feedback | 1 | .9 | https://docs.google.com/spreadsheets/d/1W9nuXvCk3F3iMjvrlYa6nhQNuXGSQoxPxa-UzZm2o-g/edit?gid=1783700775#gid=1783700775 graded fairly  \n",
    "Beyond Perfunctory | 1 |.9  | https://anikabhatnagar20.github.io/anika_2025/csa/unit3-p1/intro\n",
    "Total | 5 | \n",
    "\n",
    "\n",
    "## Learnings \n",
    "https://anikabhatnagar20.github.io/anika_2025/2024/10/08/teamteachlearnings.html\n",
    "## Revision for team teach \n",
    "https://anikabhatnagar20.github.io/anika_2025/csa/unit3-p1/intro\n"
   ]
  }
 ],
 "metadata": {
  "language_info": {
   "name": "python"
  },
  "orig_nbformat": 4
 },
 "nbformat": 4,
 "nbformat_minor": 2
}
