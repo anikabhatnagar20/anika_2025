{
 "cells": [
  {
   "cell_type": "markdown",
   "metadata": {},
   "source": [
    "---\n",
    "layout: post\n",
    "comments: True\n",
    "title: Classes team teach \n",
    "description: this nb is of the popcorn hacks and hw from the classes team teach.\n",
    "categories: ['AP CSA']\n",
    "courses: {'csa': {'week': 5}}\n",
    "type: ccc\n",
    "author: Anika Bhatnagar\n",
    "---"
   ]
  },
  {
   "cell_type": "markdown",
   "metadata": {},
   "source": [
    "## Popcorn Hack\n",
    "We are creating a new Class called Cat. The cat class will have the Instance variable of sound which is a String. The Constructor should have the parameter noise of type String which should be used to initalize the instance variable of sound."
   ]
  },
  {
   "cell_type": "code",
   "execution_count": 1,
   "metadata": {
    "vscode": {
     "languageId": "java"
    }
   },
   "outputs": [],
   "source": [
    "public class Cat {\n",
    "    private String sound;\n",
    "\n",
    "    public Cat(String noise) {\n",
    "        sound = noise;\n",
    "    }\n",
    "}\n"
   ]
  },
  {
   "cell_type": "markdown",
   "metadata": {},
   "source": [
    "## Popcorn Hack #2 \n",
    "The Cat class has 2 methods. The first method makeQuietNoise should return a fully lowercase string of the noise instance variable. The second method makeReverseNoise should return the noise instance variable but the order of the characters is reversed. These methods should return null if there is an empty string."
   ]
  },
  {
   "cell_type": "code",
   "execution_count": null,
   "metadata": {
    "vscode": {
     "languageId": "java"
    }
   },
   "outputs": [],
   "source": [
    "public class Cat \n",
    "{\n",
    "    private String sound; \n",
    "\n",
    "    public Cat(String noise){\n",
    "    this.sound = noise; \n",
    "}\n",
    "\n",
    "public String getsound (){\n",
    "    return this.sound;\n",
    "}\n",
    "\n",
    "public void setsound(String noise){\n",
    "}\n",
    "}"
   ]
  }
 ],
 "metadata": {
  "kernelspec": {
   "display_name": "Java",
   "language": "java",
   "name": "java"
  },
  "language_info": {
   "codemirror_mode": "java",
   "file_extension": ".jshell",
   "mimetype": "text/x-java-source",
   "name": "Java",
   "pygments_lexer": "java",
   "version": "17.0.3+7"
  },
  "orig_nbformat": 4
 },
 "nbformat": 4,
 "nbformat_minor": 2
}
