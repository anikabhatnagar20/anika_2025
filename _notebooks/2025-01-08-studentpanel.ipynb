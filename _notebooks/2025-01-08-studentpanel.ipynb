{
 "cells": [
  {
   "cell_type": "markdown",
   "metadata": {},
   "source": [
    "---\n",
    "layout: post\n",
    "comments: true\n",
    "title: Student panel \n",
    "description: What i got from the student panel\n",
    "categories: [AP CSA]\n",
    "courses: {'csa': {'week': 5}}\n",
    "type: ccc\n",
    "menu: nav/CSA_Units/csa_unit3_p1.html\n",
    "author: Anika Bhatnagar\n",
    "---"
   ]
  },
  {
   "cell_type": "code",
   "execution_count": null,
   "metadata": {
    "vscode": {
     "languageId": "plaintext"
    }
   },
   "outputs": [],
   "source": [
    "## Notes: \n",
    "What insipred you to go into STEM?\n",
    "liking project based working seeing it all coming together. Pressure into STEM because of how technical San Diego specifically is.\n",
    "\n",
    "Majority of the time explaining/talking about code is more important than how well it works. Very similar to live reviews. Being able to communicate and summarize what your working on is key.\n",
    "\n",
    "Its important to have a rough format to discuss rather than going blindly. Interviews are very common for clubs/extracurriculars. Its important to portray yourself well.\n",
    "\n",
    "Issues are very helpful, documenting everything is very valuable. IN the future before even starting to code making flowcharts are common. Flowcharts are HUGE probably very detailed.\n",
    "\n",
    "This class is beneficial because in the real world not everyone has skills to know \"full stack\" which is something we have been working on all year.\n",
    "\n",
    "Something with Ivies is that AP credits don't transfer.\n",
    "Colleges like combining technical and social issues.\n",
    "Less team projects than expected.\n",
    "look at specific major that the university offers and personalizes essays/information this shows passion and how you would involve yourself in the school.\n",
    "Colleges care more about projects, technical skills, etc.\n",
    "Learn how to make nice good websites\n",
    "Email college professors for internship/research\n",
    "personal statement is the hardest thing to write\n",
    "using linkdn is overall very helpful to organize everything\n",
    "\n",
    "as a overall leader its important to talk to the rest of the leaders and always be on the same page.\n",
    "\n",
    "## takaway \n",
    "\n",
    "I’m interested in project-based work because I love seeing everything come together and the process of solving problems step by step, and from what the student talkers this is a big aspect of what they do everyday. \n",
    "Based on what the students shared, STEM is a field that will help me pursue my interests throughout college and into my future career. \n",
    "I’ve learned that in STEM, it’s not just about making things work but about explaining and summarizing your work effectively, which is a skill I want to improve on.\n",
    "The student pannel helped think about what I can do in the near future like cold emailing professors. Something that I would currently want to improve on is adding to my linkdn page. I have an account but I really would like to fill it up with all the stuff that I have done. \n",
    "\n",
    "![IMG_5397](https://github.com/user-attachments/assets/0d59d255-3112-47c4-a127-af86e26ad8ea)\n",
    "![IMG_5389](https://github.com/user-attachments/assets/358d6227-7264-42c1-8145-59c760d81321)\n"
   ]
  }
 ],
 "metadata": {
  "language_info": {
   "name": "python"
  },
  "orig_nbformat": 4
 },
 "nbformat": 4,
 "nbformat_minor": 2
}
