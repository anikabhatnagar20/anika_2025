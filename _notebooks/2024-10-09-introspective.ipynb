{
 "cells": [
  {
   "cell_type": "markdown",
   "metadata": {},
   "source": [
    "---\n",
    "layout: post\n",
    "comments: true\n",
    "title: Unit 3 revision\n",
    "description: Editing my team teach to improve \n",
    "categories: [AP CSA]\n",
    "courses: {'csa': {'week': 5}}\n",
    "type: ccc\n",
    "menu: nav/CSA_Units/csa_unit3_p1.html\n",
    "author: Anika Bhatnagar\n",
    "---"
   ]
  },
  {
   "cell_type": "markdown",
   "metadata": {},
   "source": [
    "# 3.3 If Else Statements\n",
    "\n",
    "<a id=\"if-else-statements\"></a>\n",
    "## Purpose of Else Statements\n",
    "Else statements: Handles what happens when the if condition is false.\n",
    "Structure of If-Else:\n",
    "- If statement with a condition.\n",
    "- Else statement without a condition.\n",
    "- Both parts have code blocks surrounded by {}.\n",
    "\n",
    "- if there is only one instruction in teh if statement technically brackets aren't mandatory, but its good to pratice using them because generally there is more in the statements. \n"
   ]
  },
  {
   "cell_type": "code",
   "execution_count": 24,
   "metadata": {
    "vscode": {
     "languageId": "java"
    }
   },
   "outputs": [
    {
     "name": "stdout",
     "output_type": "stream",
     "text": [
      "Number is odd\n"
     ]
    }
   ],
   "source": [
    "// example of a simple if else loop: \n",
    "// things to keep in mind: \n",
    "// Always put a semicolon after a parenthesis \n",
    "// make sure you use double quotes are your message \n",
    "\n",
    "int number = 2; // change this number to see what happens when its odd\n",
    "\n",
    "if (number % 2 == 0) {\n",
    "    System.out.println(\"Number is even\");\n",
    "} else {\n",
    "    System.out.println(\"Number is odd\");\n",
    "}\n"
   ]
  },
  {
   "cell_type": "code",
   "execution_count": 25,
   "metadata": {
    "vscode": {
     "languageId": "java"
    }
   },
   "outputs": [
    {
     "name": "stdout",
     "output_type": "stream",
     "text": [
      "Current age: 17\n",
      "You can learn to drive a car.\n",
      "Drive safe!\n"
     ]
    }
   ],
   "source": [
    "// slightly more complex loop because there are 2 messages \n",
    "\n",
    "int myAge = 17; // adjust the age too see the difference in what it prints out\n",
    "\n",
    "System.out.println(\"Current age: \" + myAge);\n",
    "\n",
    "if (myAge >= 16) {\n",
    "    System.out.println(\"You can learn to drive a car.\");\n",
    "    System.out.println(\"Drive safe!\");\n",
    "} else {\n",
    "    System.out.println(\"You are not old enough for a license yet.\");\n",
    "    System.out.println(\"Try again next year\");\n",
    "}\n"
   ]
  },
  {
   "cell_type": "markdown",
   "metadata": {},
   "source": [
    "### popcorn hack 1 \n",
    "\n",
    "<img width=\"816\" alt=\"image\" src=\"https://github.com/user-attachments/assets/c6701143-b87f-427b-a206-6cee0660571c\">\n",
    "\n",
    "1. Based on this code, if you were younger than 16 what would it print out?\n",
    "2. Write your own if else statement"
   ]
  },
  {
   "cell_type": "code",
   "execution_count": null,
   "metadata": {
    "vscode": {
     "languageId": "java"
    }
   },
   "outputs": [],
   "source": [
    "// popcorn hack 2 \n",
    "// Figure out what is wrong with this code and fix the error. (2 errors)\n",
    "\n",
    "int number = 2; \n",
    "\n",
    "if (number % 2 == 0) {\n",
    "    System.out.println('Number is even');\n",
    "} else {\n",
    "    System.out.println(\"Number is odd\")\n",
    "}"
   ]
  }
 ],
 "metadata": {
  "kernelspec": {
   "display_name": "Java",
   "language": "java",
   "name": "java"
  },
  "language_info": {
   "codemirror_mode": "java",
   "file_extension": ".jshell",
   "mimetype": "text/x-java-source",
   "name": "Java",
   "pygments_lexer": "java",
   "version": "17.0.3+7"
  },
  "orig_nbformat": 4
 },
 "nbformat": 4,
 "nbformat_minor": 2
}
