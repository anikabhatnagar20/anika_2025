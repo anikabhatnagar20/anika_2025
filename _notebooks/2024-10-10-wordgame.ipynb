{
 "cells": [
  {
   "cell_type": "markdown",
   "metadata": {},
   "source": [
    "---\n",
    "layout: post\n",
    "title: Word game to show my knowledge of unit 8 \n",
    "description: Word game to show my knowledge of unit 8 \n",
    "type: collab\n",
    "toc: true\n",
    "menu: nav/CSA_Units/unit2/period3.html\n",
    "comments: true\n",
    "courses: { csa: {week: 5} }\n",
    "type: ccc\n",
    "categories: [AP CSA]\n",
    "author: Anika Bhatnagar\n",
    "categories:\n",
    "  - Sprint 2\n",
    "---"
   ]
  },
  {
   "cell_type": "code",
   "execution_count": null,
   "metadata": {
    "vscode": {
     "languageId": "java"
    }
   },
   "outputs": [],
   "source": [
    "import java.util.ArrayList;\n",
    "import java.util.Scanner;\n",
    "\n",
    "public class WordSearch {\n",
    "    \n",
    "    // This method initializes the word list with predefined words\n",
    "    public static ArrayList<String> initializeWordList() {\n",
    "        // Creating an ArrayList of words\n",
    "        ArrayList<String> wordList = new ArrayList<>();\n",
    "        wordList.add(\"apple\");\n",
    "        wordList.add(\"banana\");\n",
    "        wordList.add(\"grape\");\n",
    "        wordList.add(\"orange\");\n",
    "        wordList.add(\"mango\");\n",
    "        return wordList;\n",
    "    }\n",
    "\n",
    "    // Method to search for a word in the list\n",
    "    public static boolean searchWord(ArrayList<String> wordList, String word) {\n",
    "        // Using the contains() method to search for the word in the list\n",
    "        return wordList.contains(word);\n",
    "    }\n",
    "\n",
    "    // Method to print all the words in the list\n",
    "    public static void displayWords(ArrayList<String> wordList) {\n",
    "        System.out.println(\"Here are the available words in the list:\");\n",
    "        for (String word : wordList) {\n",
    "            System.out.println(word);\n",
    "        }\n",
    "    }\n",
    "\n",
    "    // Main method where the game runs\n",
    "    public static void main(String[] args) {\n",
    "        // Initialize the word list\n",
    "        ArrayList<String> wordList = initializeWordList();\n",
    "        \n",
    "        // Display the list of words\n",
    "        displayWords(wordList);\n",
    "        \n",
    "        // Input from the user\n",
    "        Scanner scanner = new Scanner(System.in);\n",
    "        System.out.print(\"Enter a word to search: \");\n",
    "        String word = scanner.nextLine();\n",
    "        \n",
    "        // Search for the word in the list and display the result\n",
    "        if (searchWord(wordList, word)) {\n",
    "            System.out.println(\"The word \\\"\" + word + \"\\\" was found in the list!\");\n",
    "        } else {\n",
    "            System.out.println(\"The word \\\"\" + word + \"\\\" was not found in the list.\");\n",
    "        }\n",
    "\n",
    "        // Close the scanner\n",
    "        scanner.close();\n",
    "    }\n",
    "}\n"
   ]
  }
 ],
 "metadata": {
  "language_info": {
   "name": "python"
  },
  "orig_nbformat": 4
 },
 "nbformat": 4,
 "nbformat_minor": 2
}
