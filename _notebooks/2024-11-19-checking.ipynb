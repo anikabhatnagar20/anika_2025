{
 "cells": [
  {
   "cell_type": "markdown",
   "metadata": {},
   "source": [
    "---\n",
    "layout: post\n",
    "comments: True\n",
    "title: Java to check cb questions\n",
    "description: reflection on cb mc 2014 \n",
    "categories: ['AP CSA']\n",
    "courses: {'csa': {'week': 5}}\n",
    "type: ccc\n",
    "author: Anika Bhatnagar\n",
    "---"
   ]
  },
  {
   "cell_type": "code",
   "execution_count": 1,
   "metadata": {
    "vscode": {
     "languageId": "java"
    }
   },
   "outputs": [
    {
     "name": "stdout",
     "output_type": "stream",
     "text": [
      "Value is: 2\n"
     ]
    }
   ],
   "source": [
    "int x = 7; \n",
    "int y = 3; \n",
    "\n",
    "if ((x < 10) && (y < 0))\n",
    "    System.out.println(\"Value is: \" + x * y); \n",
    "else \n",
    "    System.out.println(\"Value is: \"+ x / y);"
   ]
  }
 ],
 "metadata": {
  "kernelspec": {
   "display_name": "Java",
   "language": "java",
   "name": "java"
  },
  "language_info": {
   "codemirror_mode": "java",
   "file_extension": ".jshell",
   "mimetype": "text/x-java-source",
   "name": "Java",
   "pygments_lexer": "java",
   "version": "17.0.12+0"
  },
  "orig_nbformat": 4
 },
 "nbformat": 4,
 "nbformat_minor": 2
}
