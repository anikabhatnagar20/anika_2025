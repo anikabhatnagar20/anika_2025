{
 "cells": [
  {
   "cell_type": "markdown",
   "metadata": {},
   "source": [
    "---\n",
    "layout: post\n",
    "title:  Classes\n",
    "description:  Team Teach for Classes\n",
    "permalink: /classeshw\n",
    "comments: true\n",
    "menu: nav/FRQ_teach/classesperiod3.html\n",
    "sticky_rank: 1\n",
    "toc: false\n",
    "---"
   ]
  },
  {
   "cell_type": "markdown",
   "metadata": {},
   "source": [
    "# Conclusion   (Jason)"
   ]
  },
  {
   "cell_type": "markdown",
   "metadata": {
    "vscode": {
     "languageId": "plaintext"
    }
   },
   "source": [
    "The **\"Classes\"** section gives a simple guide to handling Classes FRQs in APCSA. It explains key ideas like writing class headers, constructors, and methods, and keeping instance variables private. Following these steps makes your code organized and clear, which helps earn points on the exam.\n",
    "\n",
    "### Tips  \n",
    "1. **Follow Instructions**: Always match class headers, constructors, and method details to what’s asked in the question.  \n",
    "\n",
    "2. **Keep it Simple**: Use `this.variable = parameter;` to set instance variables in constructors.  \n",
    "\n",
    "3. **Check Scoping**: Class and method headers should usually be `public`, and instance variables should always be `private`.  \n"
   ]
  },
  {
   "cell_type": "markdown",
   "metadata": {},
   "source": [
    "# **Homework!** (Jason)\n",
    "### 2017 FRQ, Question 2 - Classes\n",
    "\n",
    "#### [**Homework over here...**](https://docs.google.com/forms/d/e/1FAIpQLSfh9si2edbWDec6buhsbuA_oiq-rA2lMeY582N4i8nAxtmBoQ/viewform?usp=sf_link)\n",
    "\n",
    "![2017 FRQ, Question 2, Classes](https://i.ibb.co/VJc29TM/Screenshot-2025-01-07-at-12-39-08-PM.png)\n",
    "\n",
    "![Example 1](https://i.ibb.co/NpF8v72/Screenshot-2025-01-07-at-12-43-04-PM.png)\n",
    "\n",
    "![Example 2](https://i.ibb.co/pW4jVSX/Screenshot-2025-01-07-at-12-43-20-PM.png)\n",
    "\n",
    "![Final](https://i.ibb.co/vYTv7cX/Screenshot-2025-01-07-at-12-44-12-PM.png)\n"
   ]
  },
  {
   "cell_type": "code",
   "execution_count": 6,
   "metadata": {},
   "outputs": [
    {
     "name": "stdout",
     "output_type": "stream",
     "text": [
      "7 TIMES 3\n",
      "7 TIMES 4\n",
      "7 TIMES 5\n",
      "7 TIMES 6\n",
      "4 TIMES 13\n",
      "4 TIMES 13\n",
      "4 TIMES 15\n",
      "4 TIMES 16\n"
     ]
    }
   ],
   "source": [
    "// Interface defining the structure\n",
    "public interface StudyPractice {\n",
    "    // Returns the current practice problem\n",
    "    String getProblem();\n",
    "\n",
    "    // Changes to the next practice problem\n",
    "    void nextProblem();\n",
    "}\n",
    "// Class that implements the StudyPractice interface\n",
    "// It generates multiplication problems\n",
    "public class MultPractice implements StudyPractice {\n",
    "    private int first;\n",
    "    private int second;\n",
    "// Constructor to initialize the base number and starting multiplier\n",
    "    public MultPractice(int first, int second) {\n",
    "        this.first = first;\n",
    "        this.second = second;\n",
    "    }\n",
    "// Implementation of getCurrentProblem() from the StudyPractice interface\n",
    "// Returns the current multiplication problem in the format \"baseNumber TIMES multiplier\"\n",
    "    public String getProblem() {\n",
    "        return first + \" TIMES \" + second;\n",
    "    }\n",
    "// Implementation of advanceProblem() from the StudyPractice interface\n",
    "// Increments the multiplier to represent the next problem\n",
    "    public void nextProblem() {\n",
    "        second++;\n",
    "    }\n",
    "}\n",
    "\n",
    "// Main class to test the MultiplicationPractice functionality\n",
    "StudyPractice p1 = new MultPractice(7, 3);\n",
    "System.out.println(p1.getProblem());\n",
    "\n",
    "p1.nextProblem();\n",
    "System.out.println(p1.getProblem());\n",
    "\n",
    "p1.nextProblem();\n",
    "System.out.println(p1.getProblem());\n",
    "\n",
    "p1.nextProblem();\n",
    "System.out.println(p1.getProblem());\n",
    "\n",
    "\n",
    "StudyPractice p2 = new MultPractice(4, 12);\n",
    "p2.nextProblem();\n",
    "System.out.println(p2.getProblem());\n",
    "System.out.println(p2.getProblem());\n",
    "\n",
    "p2.nextProblem();\n",
    "p2.nextProblem();\n",
    "System.out.println(p2.getProblem());\n",
    "\n",
    "p2.nextProblem();\n",
    "System.out.println(p2.getProblem());"
   ]
  }
 ],
 "metadata": {
  "kernelspec": {
   "display_name": "Java",
   "language": "java",
   "name": "java"
  },
  "language_info": {
   "codemirror_mode": "java",
   "file_extension": ".jshell",
   "mimetype": "text/x-java-source",
   "name": "java",
   "pygments_lexer": "java",
   "version": "17.0.3+7"
  }
 },
 "nbformat": 4,
 "nbformat_minor": 2
}
